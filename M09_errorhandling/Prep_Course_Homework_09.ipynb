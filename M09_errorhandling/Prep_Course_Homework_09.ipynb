{
 "cells": [
  {
   "attachments": {},
   "cell_type": "markdown",
   "metadata": {},
   "source": [
    "## Manejo de errores"
   ]
  },
  {
   "attachments": {},
   "cell_type": "markdown",
   "metadata": {},
   "source": [
    "1) Con la clase creada en el módulo 7, tener en cuenta diferentes casos en que el código pudiera arrojar error. Por ejemplo, en la creación del objeto recibimos una lista de números enteros pero ¿qué pasa si se envía otro tipo de dato?"
   ]
  },
  {
   "cell_type": "code",
   "execution_count": 1,
   "metadata": {},
   "outputs": [],
   "source": [
    "import sys\n",
    "\n",
    "sys.path.append(r'C:\\Users\\USER\\Desktop\\Python-Prep\\M09_errorhandling')"
   ]
  },
  {
   "cell_type": "code",
   "execution_count": 2,
   "metadata": {},
   "outputs": [],
   "source": [
    "import funciones as f\n",
    "import herramientas as h"
   ]
  },
  {
   "cell_type": "code",
   "execution_count": 3,
   "metadata": {},
   "outputs": [],
   "source": [
    "f1 = f.Funciones([2,3])"
   ]
  },
  {
   "attachments": {},
   "cell_type": "markdown",
   "metadata": {},
   "source": [
    "2) En la función que hace la conversión de grados, validar que los parámetros enviados sean los esperados, de no serlo, informar cuáles son los valores esperados."
   ]
  },
  {
   "cell_type": "code",
   "execution_count": 6,
   "metadata": {},
   "outputs": [
    {
     "ename": "AssertionError",
     "evalue": "2 no es válido. Parámetros esperados: F, C, K",
     "output_type": "error",
     "traceback": [
      "\u001b[1;31m---------------------------------------------------------------------------\u001b[0m",
      "\u001b[1;31mAssertionError\u001b[0m                            Traceback (most recent call last)",
      "Cell \u001b[1;32mIn[6], line 1\u001b[0m\n\u001b[1;32m----> 1\u001b[0m f1\u001b[39m.\u001b[39;49mgrados(\u001b[39m'\u001b[39;49m\u001b[39mF\u001b[39;49m\u001b[39m'\u001b[39;49m,\u001b[39m2\u001b[39;49m)\n",
      "File \u001b[1;32mc:\\Users\\USER\\Desktop\\Python-Prep\\M09_errorhandling\\funciones.py:29\u001b[0m, in \u001b[0;36mFunciones.grados\u001b[1;34m(self, origen, destino)\u001b[0m\n\u001b[0;32m     27\u001b[0m \u001b[39mdef\u001b[39;00m \u001b[39mgrados\u001b[39m(\u001b[39mself\u001b[39m, origen, destino):\n\u001b[0;32m     28\u001b[0m     \u001b[39mfor\u001b[39;00m i \u001b[39min\u001b[39;00m \u001b[39mself\u001b[39m\u001b[39m.\u001b[39mlista:\n\u001b[1;32m---> 29\u001b[0m         \u001b[39mprint\u001b[39m(i, \u001b[39m'\u001b[39m\u001b[39mgrados\u001b[39m\u001b[39m'\u001b[39m, origen, \u001b[39m'\u001b[39m\u001b[39mson\u001b[39m\u001b[39m'\u001b[39m, \u001b[39mself\u001b[39;49m\u001b[39m.\u001b[39;49m__grados(i, origen, destino),\u001b[39m'\u001b[39m\u001b[39mgrados\u001b[39m\u001b[39m'\u001b[39m,destino)\n",
      "File \u001b[1;32mc:\\Users\\USER\\Desktop\\Python-Prep\\M09_errorhandling\\funciones.py:64\u001b[0m, in \u001b[0;36mFunciones.__grados\u001b[1;34m(self, valor, origen, destino)\u001b[0m\n\u001b[0;32m     61\u001b[0m \u001b[39mdef\u001b[39;00m \u001b[39m__grados\u001b[39m(\u001b[39mself\u001b[39m, valor, origen, destino):\n\u001b[0;32m     63\u001b[0m     \u001b[39massert\u001b[39;00m origen \u001b[39min\u001b[39;00m {\u001b[39m'\u001b[39m\u001b[39mF\u001b[39m\u001b[39m'\u001b[39m, \u001b[39m'\u001b[39m\u001b[39mC\u001b[39m\u001b[39m'\u001b[39m, \u001b[39m'\u001b[39m\u001b[39mK\u001b[39m\u001b[39m'\u001b[39m}, \u001b[39mf\u001b[39m\u001b[39m'\u001b[39m\u001b[39m{\u001b[39;00morigen\u001b[39m}\u001b[39;00m\u001b[39m no es válido. Parámetros esperados: F, C, K\u001b[39m\u001b[39m'\u001b[39m\n\u001b[1;32m---> 64\u001b[0m     \u001b[39massert\u001b[39;00m destino \u001b[39min\u001b[39;00m {\u001b[39m'\u001b[39m\u001b[39mF\u001b[39m\u001b[39m'\u001b[39m, \u001b[39m'\u001b[39m\u001b[39mC\u001b[39m\u001b[39m'\u001b[39m, \u001b[39m'\u001b[39m\u001b[39mK\u001b[39m\u001b[39m'\u001b[39m}, \u001b[39mf\u001b[39m\u001b[39m'\u001b[39m\u001b[39m{\u001b[39;00mdestino\u001b[39m}\u001b[39;00m\u001b[39m no es válido. Parámetros esperados: F, C, K\u001b[39m\u001b[39m'\u001b[39m\n\u001b[0;32m     66\u001b[0m     \u001b[39mif\u001b[39;00m origen \u001b[39m==\u001b[39m destino: \n\u001b[0;32m     67\u001b[0m         \u001b[39mreturn\u001b[39;00m valor, destino\n",
      "\u001b[1;31mAssertionError\u001b[0m: 2 no es válido. Parámetros esperados: F, C, K"
     ]
    }
   ],
   "source": [
    "f1.grados('F',2)"
   ]
  },
  {
   "cell_type": "code",
   "execution_count": 5,
   "metadata": {},
   "outputs": [
    {
     "name": "stdout",
     "output_type": "stream",
     "text": [
      "2 grados K son (-271.15, 'C') grados C\n",
      "3 grados K son (-270.15, 'C') grados C\n"
     ]
    }
   ],
   "source": [
    "f1.grados('K','C')"
   ]
  },
  {
   "attachments": {},
   "cell_type": "markdown",
   "metadata": {},
   "source": [
    "3) Importar el modulo \"unittest\" y crear los siguientes casos de pruebas sobre la clase utilizada en el punto 2<br>\n",
    "Creacion del objeto incorrecta<br>\n",
    "Creacion correcta del objeto<br>\n",
    "Metodo valor_modal()<br>\n",
    "\n",
    "Se puede usar \"raise ValueError()\" en la creación de la clase para verificar el error. Investigar sobre esta funcionalidad."
   ]
  },
  {
   "cell_type": "code",
   "execution_count": 8,
   "metadata": {},
   "outputs": [],
   "source": [
    "import unittest "
   ]
  },
  {
   "cell_type": "code",
   "execution_count": 22,
   "metadata": {},
   "outputs": [],
   "source": [
    "class Test(unittest.TestCase):\n",
    "\n",
    "    def test_crear_objeto1(self):\n",
    "        param = 'hola'\n",
    "        self.assertRaises(ValueError, f.Funciones, param)\n",
    "        #self.failUnlessRaises(ValueError, h.Herramientas, param)\n",
    "\n",
    "    def test_crear_objeto2(self):\n",
    "        param = [1,2,2,5]\n",
    "        f1 = f.Funciones(param)\n",
    "        self.assertEqual(f1.lista, param)\n",
    "\n",
    "    # def test_crear_objeto3(self):\n",
    "    #     param = [1,2,3,4.5]\n",
    "    #     self.assertRaises(ValueError, f.Funciones, param)\n",
    "\n",
    "    def test_valor_modal(self):\n",
    "        lis = [1,2,1,3]\n",
    "        f1 = f.Funciones(lis)\n",
    "        moda, veces = f1.repetidosorden(False)\n",
    "        moda = [moda]\n",
    "        moda.append(veces)\n",
    "        resultado = [1, 2]\n",
    "        self.assertEqual(moda, resultado)"
   ]
  },
  {
   "attachments": {},
   "cell_type": "markdown",
   "metadata": {},
   "source": [
    "4) Probar una creación incorrecta y visualizar la salida del \"raise\""
   ]
  },
  {
   "cell_type": "code",
   "execution_count": 23,
   "metadata": {},
   "outputs": [
    {
     "name": "stderr",
     "output_type": "stream",
     "text": [
      "test_crear_objeto1 (__main__.Test) ... ok\n",
      "test_crear_objeto2 (__main__.Test) ... ok\n",
      "test_valor_modal (__main__.Test) ... ok\n",
      "\n",
      "----------------------------------------------------------------------\n",
      "Ran 3 tests in 0.009s\n",
      "\n",
      "OK\n"
     ]
    },
    {
     "data": {
      "text/plain": [
       "<unittest.main.TestProgram at 0x1520d9d19d0>"
      ]
     },
     "execution_count": 23,
     "metadata": {},
     "output_type": "execute_result"
    }
   ],
   "source": [
    "unittest.main(argv=[''], verbosity=2, exit=False)\n"
   ]
  },
  {
   "attachments": {},
   "cell_type": "markdown",
   "metadata": {},
   "source": [
    "6) Agregar casos de pruebas para el método verifica_primos() realizando el cambio en la clase, para que devuelva una lista de True o False en función de que el elemento en la posisicón sea o no primo"
   ]
  },
  {
   "cell_type": "code",
   "execution_count": null,
   "metadata": {},
   "outputs": [],
   "source": [
    "def test_primos(self):\n",
    "        lis = [2,3,8,10,13]\n",
    "        f1 = f.Funciones(lis)\n",
    "        primos = f1.primo()\n",
    "        primos_esperado = [True, True, False, False, True]\n",
    "        self.assertEqual(primos, primos_esperado)"
   ]
  },
  {
   "attachments": {},
   "cell_type": "markdown",
   "metadata": {},
   "source": [
    "7) Agregar casos de pruebas para el método conversion_grados()"
   ]
  },
  {
   "cell_type": "code",
   "execution_count": null,
   "metadata": {},
   "outputs": [],
   "source": []
  },
  {
   "attachments": {},
   "cell_type": "markdown",
   "metadata": {},
   "source": [
    "8) Agregar casos de pruebas para el método factorial()"
   ]
  },
  {
   "cell_type": "code",
   "execution_count": null,
   "metadata": {},
   "outputs": [],
   "source": []
  }
 ],
 "metadata": {
  "interpreter": {
   "hash": "c85384e4cb51c8b72350f3a8712cc8351fdc3955e32a27f9b60c6242ab125f01"
  },
  "kernelspec": {
   "display_name": "Python 3 (ipykernel)",
   "language": "python",
   "name": "python3"
  },
  "language_info": {
   "codemirror_mode": {
    "name": "ipython",
    "version": 3
   },
   "file_extension": ".py",
   "mimetype": "text/x-python",
   "name": "python",
   "nbconvert_exporter": "python",
   "pygments_lexer": "ipython3",
   "version": "3.9.13"
  }
 },
 "nbformat": 4,
 "nbformat_minor": 4
}
