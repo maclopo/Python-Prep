{
 "cells": [
  {
   "attachments": {},
   "cell_type": "markdown",
   "metadata": {},
   "source": [
    "## Flujos de Control"
   ]
  },
  {
   "attachments": {},
   "cell_type": "markdown",
   "metadata": {},
   "source": [
    "1) Crear una variable que contenga un elemento del conjunto de números enteros y luego imprimir por pantalla si es mayor o menor a cero"
   ]
  },
  {
   "cell_type": "code",
   "execution_count": 1,
   "metadata": {},
   "outputs": [
    {
     "name": "stdout",
     "output_type": "stream",
     "text": [
      "La variable es mayor a cero\n"
     ]
    }
   ],
   "source": [
    "a = 2\n",
    "if (a < 0):\n",
    "    print('La variable es menor a cero')\n",
    "elif (a > 0): \n",
    "    print('La variable es mayor a cero')\n",
    "else:\n",
    "    print('La variable es igual a cero')"
   ]
  },
  {
   "attachments": {},
   "cell_type": "markdown",
   "metadata": {},
   "source": [
    "2) Crear dos variables y un condicional que informe si son del mismo tipo de dato"
   ]
  },
  {
   "cell_type": "code",
   "execution_count": 2,
   "metadata": {},
   "outputs": [
    {
     "name": "stdout",
     "output_type": "stream",
     "text": [
      "Distinto tipo\n"
     ]
    }
   ],
   "source": [
    "b = 2\n",
    "c = 3.1\n",
    "\n",
    "if type(b)==type(c):\n",
    "    print('Tienen el mismo tipo')\n",
    "else:\n",
    "    print('Distinto tipo')"
   ]
  },
  {
   "attachments": {},
   "cell_type": "markdown",
   "metadata": {},
   "source": [
    "3) Para los valores enteros del 1 al 20, imprimir por pantalla si es par o impar"
   ]
  },
  {
   "cell_type": "code",
   "execution_count": 7,
   "metadata": {},
   "outputs": [
    {
     "name": "stdout",
     "output_type": "stream",
     "text": [
      "1 Impar\n",
      "2 Par\n",
      "3 Impar\n",
      "4 Par\n",
      "5 Impar\n",
      "6 Par\n",
      "7 Impar\n",
      "8 Par\n",
      "9 Impar\n",
      "10 Par\n",
      "11 Impar\n",
      "12 Par\n",
      "13 Impar\n",
      "14 Par\n",
      "15 Impar\n",
      "16 Par\n",
      "17 Impar\n",
      "18 Par\n",
      "19 Impar\n",
      "20 Par\n"
     ]
    }
   ],
   "source": [
    "for i in range(1,21):\n",
    "    if i%2==0: \n",
    "        print(i, 'Par')\n",
    "    else:\n",
    "        print(i, 'Impar')"
   ]
  },
  {
   "attachments": {},
   "cell_type": "markdown",
   "metadata": {},
   "source": [
    "4) En un ciclo for mostrar para los valores entre 0 y 5 el resultado de elevarlo a la potencia igual a 3"
   ]
  },
  {
   "cell_type": "code",
   "execution_count": 11,
   "metadata": {},
   "outputs": [
    {
     "name": "stdout",
     "output_type": "stream",
     "text": [
      "Valor:  0 . Elevado a la tercera potencia:  0\n",
      "Valor:  1 . Elevado a la tercera potencia:  1\n",
      "Valor:  2 . Elevado a la tercera potencia:  8\n",
      "Valor:  3 . Elevado a la tercera potencia:  27\n",
      "Valor:  4 . Elevado a la tercera potencia:  64\n",
      "Valor:  5 . Elevado a la tercera potencia:  125\n"
     ]
    }
   ],
   "source": [
    "for i in range(6):\n",
    "    print('Valor: ', i, '. Elevado a la tercera potencia: ', i**3)"
   ]
  },
  {
   "attachments": {},
   "cell_type": "markdown",
   "metadata": {},
   "source": [
    "5) Crear una variable que contenga un número entero y realizar un ciclo for la misma cantidad de ciclos"
   ]
  },
  {
   "cell_type": "code",
   "execution_count": 12,
   "metadata": {},
   "outputs": [
    {
     "name": "stdout",
     "output_type": "stream",
     "text": [
      "9\n"
     ]
    }
   ],
   "source": [
    "g = 10\n",
    "\n",
    "for i in range(0, g):\n",
    "    pass\n",
    "print(i)"
   ]
  },
  {
   "attachments": {},
   "cell_type": "markdown",
   "metadata": {},
   "source": [
    "6) Utilizar un ciclo while para realizar el factorial de un número guardado en una variable, sólo si la variable contiene un número entero mayor a 0"
   ]
  },
  {
   "cell_type": "code",
   "execution_count": 33,
   "metadata": {},
   "outputs": [
    {
     "name": "stdout",
     "output_type": "stream",
     "text": [
      "25852016738884976640000\n",
      "25852016738884976640000\n"
     ]
    }
   ],
   "source": [
    "n = 23\n",
    "\n",
    "import math\n",
    "print(math.factorial(n))\n",
    "\n",
    "if n>0:\n",
    "    m = n\n",
    "    while n>1:\n",
    "        n -= 1 \n",
    "        m = m*n\n",
    "print(m)\n",
    "\n"
   ]
  },
  {
   "attachments": {},
   "cell_type": "markdown",
   "metadata": {},
   "source": [
    "7) Crear un ciclo for dentro de un ciclo while"
   ]
  },
  {
   "cell_type": "code",
   "execution_count": 2,
   "metadata": {},
   "outputs": [
    {
     "name": "stdout",
     "output_type": "stream",
     "text": [
      "-10\n",
      "-10\n",
      "-9\n",
      "-7\n",
      "-4\n",
      "0\n",
      "5\n",
      "11\n",
      "18\n",
      "26\n",
      "35\n",
      "45\n",
      "56\n",
      "68\n",
      "81\n",
      "95\n",
      "110\n",
      "126\n",
      "143\n",
      "161\n",
      "180\n"
     ]
    }
   ],
   "source": [
    "i=-10\n",
    "while i<0:\n",
    "    for num in range(20):\n",
    "        i = i+num\n",
    "        print(i)\n",
    "\n"
   ]
  },
  {
   "attachments": {},
   "cell_type": "markdown",
   "metadata": {},
   "source": [
    "8) Crear un ciclo while dentro de un ciclo for"
   ]
  },
  {
   "cell_type": "code",
   "execution_count": 12,
   "metadata": {},
   "outputs": [
    {
     "name": "stdout",
     "output_type": "stream",
     "text": [
      "1 1\n",
      "2 0\n",
      "2 3\n",
      "2 6\n",
      "2 9\n",
      "3 10\n",
      "1 10\n",
      "2 0\n",
      "2 12\n",
      "2 24\n",
      "2 36\n",
      "3 46\n"
     ]
    }
   ],
   "source": [
    "i = 1\n",
    "while i < 30:\n",
    "    print('1',i)\n",
    "    for a in range(4):\n",
    "        a = (i + 2)*a\n",
    "        print('2',a)\n",
    "    i= i+a\n",
    "    print('3',i)"
   ]
  },
  {
   "attachments": {},
   "cell_type": "markdown",
   "metadata": {},
   "source": [
    "9) Imprimir los números primos existentes entre 0 y 30"
   ]
  },
  {
   "cell_type": "code",
   "execution_count": 22,
   "metadata": {},
   "outputs": [
    {
     "name": "stdout",
     "output_type": "stream",
     "text": [
      "0 Es primo\n",
      "1 Es primo\n",
      "2 Es primo\n",
      "3 Es primo\n",
      "5 Es primo\n",
      "7 Es primo\n",
      "11 Es primo\n",
      "13 Es primo\n",
      "17 Es primo\n",
      "19 Es primo\n",
      "23 Es primo\n",
      "29 Es primo\n",
      "406 Ciclos\n"
     ]
    }
   ],
   "source": [
    "ciclos_sin_break = 0\n",
    "for i in range(0,31):\n",
    "    primo = True\n",
    "    for n in range(2,i):\n",
    "        ciclos_sin_break += 1 \n",
    "        if i%n==0:\n",
    "            primo = False\n",
    "    if primo:\n",
    "        print(i,\"Es primo\")\n",
    "print(ciclos_sin_break, \"Ciclos\")\n",
    "\n"
   ]
  },
  {
   "attachments": {},
   "cell_type": "markdown",
   "metadata": {},
   "source": [
    "10) ¿Se puede mejorar el proceso del punto 9? Utilizar las sentencias break y/ó continue para tal fin"
   ]
  },
  {
   "cell_type": "code",
   "execution_count": 24,
   "metadata": {},
   "outputs": [
    {
     "name": "stdout",
     "output_type": "stream",
     "text": [
      "0 Es primo\n",
      "1 Es primo\n",
      "2 Es primo\n",
      "3 Es primo\n",
      "5 Es primo\n",
      "7 Es primo\n",
      "11 Es primo\n",
      "13 Es primo\n",
      "17 Es primo\n",
      "19 Es primo\n",
      "23 Es primo\n",
      "29 Es primo\n",
      "135 Ciclos\n"
     ]
    }
   ],
   "source": [
    "ciclos_con_break = 0\n",
    "for i in range(0,31):\n",
    "    primo = True\n",
    "    for n in range(2,i):\n",
    "        ciclos_con_break+=1\n",
    "        if i%n==0:\n",
    "            primo = False\n",
    "            break\n",
    "    if primo:\n",
    "        print(i,\"Es primo\")\n",
    "print(ciclos_con_break, 'Ciclos')"
   ]
  },
  {
   "attachments": {},
   "cell_type": "markdown",
   "metadata": {},
   "source": [
    "11) En los puntos 9 y 10, se diseño un código que encuentra números primos y además se lo optimizó. ¿Es posible saber en qué medida se optimizó?"
   ]
  },
  {
   "cell_type": "code",
   "execution_count": 26,
   "metadata": {},
   "outputs": [
    {
     "name": "stdout",
     "output_type": "stream",
     "text": [
      "Si\n",
      "Se optimizó a un 0.33251231527093594% de ciclos aplicando break\n"
     ]
    }
   ],
   "source": [
    "print('Si')\n",
    "print('Se optimizó a un ' + str(ciclos_con_break/ciclos_sin_break) + '% de ciclos aplicando break')"
   ]
  },
  {
   "attachments": {},
   "cell_type": "markdown",
   "metadata": {},
   "source": [
    "12) Si la cantidad de números que se evalúa es mayor a treinta, esa optimización crece?"
   ]
  },
  {
   "cell_type": "code",
   "execution_count": null,
   "metadata": {},
   "outputs": [],
   "source": [
    "print('Si')"
   ]
  },
  {
   "attachments": {},
   "cell_type": "markdown",
   "metadata": {},
   "source": [
    "13) Aplicando continue, armar un ciclo while que solo imprima los valores divisibles por 12, dentro del rango de números de 100 a 300"
   ]
  },
  {
   "cell_type": "code",
   "execution_count": 39,
   "metadata": {},
   "outputs": [
    {
     "name": "stdout",
     "output_type": "stream",
     "text": [
      "108\n",
      "120\n",
      "132\n",
      "144\n",
      "156\n",
      "168\n",
      "180\n",
      "192\n",
      "204\n",
      "216\n",
      "228\n",
      "240\n",
      "252\n",
      "264\n",
      "276\n",
      "288\n",
      "300\n"
     ]
    }
   ],
   "source": [
    "i = 99\n",
    "while ( i<=300):\n",
    "    i += 1\n",
    "    if (i%12!=0):\n",
    "        continue\n",
    "    print(i)\n",
    "    "
   ]
  },
  {
   "attachments": {},
   "cell_type": "markdown",
   "metadata": {},
   "source": [
    "14) Utilizar la función **input()** que permite hacer ingresos por teclado, para encontrar números primos y dar la opción al usario de buscar el siguiente"
   ]
  },
  {
   "cell_type": "code",
   "execution_count": 41,
   "metadata": {},
   "outputs": [
    {
     "name": "stdout",
     "output_type": "stream",
     "text": [
      "0 Es primo\n",
      "1 Es primo\n",
      "2 Es primo\n",
      "3 Es primo\n",
      "5 Es primo\n",
      "7 Es primo\n",
      "11 Es primo\n",
      "24 Ciclos\n"
     ]
    }
   ],
   "source": [
    "ciclos_con_break = 0\n",
    "for i in range(0,31):\n",
    "    primo = True\n",
    "    for n in range(2,i):\n",
    "        ciclos_con_break+=1\n",
    "        if i%n==0:\n",
    "            primo = False\n",
    "            break\n",
    "    if primo:\n",
    "        print(i,\"Es primo\")\n",
    "        x = input('Buscar siguiente:')\n",
    "    if x == 'No':\n",
    "        break\n",
    "    elif x == 'Si':\n",
    "        continue\n",
    "            \n",
    "print(ciclos_con_break, 'Ciclos')"
   ]
  },
  {
   "attachments": {},
   "cell_type": "markdown",
   "metadata": {},
   "source": [
    "15) Crear un ciclo while que encuentre dentro del rango de 100 a 300 el primer número divisible por 3 y además múltiplo de 6"
   ]
  },
  {
   "cell_type": "code",
   "execution_count": 44,
   "metadata": {},
   "outputs": [
    {
     "name": "stdout",
     "output_type": "stream",
     "text": [
      "102\n"
     ]
    }
   ],
   "source": [
    "i = 99\n",
    "while ( i<=300):\n",
    "    i += 1\n",
    "    if (i%3!=0) and (i%6!=0):\n",
    "        continue\n",
    "    print(i)\n",
    "    break"
   ]
  }
 ],
 "metadata": {
  "interpreter": {
   "hash": "c85384e4cb51c8b72350f3a8712cc8351fdc3955e32a27f9b60c6242ab125f01"
  },
  "kernelspec": {
   "display_name": "Python 3 (ipykernel)",
   "language": "python",
   "name": "python3"
  },
  "language_info": {
   "codemirror_mode": {
    "name": "ipython",
    "version": 3
   },
   "file_extension": ".py",
   "mimetype": "text/x-python",
   "name": "python",
   "nbconvert_exporter": "python",
   "pygments_lexer": "ipython3",
   "version": "3.9.13"
  }
 },
 "nbformat": 4,
 "nbformat_minor": 4
}
