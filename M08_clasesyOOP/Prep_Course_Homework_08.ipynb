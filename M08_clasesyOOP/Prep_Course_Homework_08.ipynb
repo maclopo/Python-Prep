{
 "cells": [
  {
   "attachments": {},
   "cell_type": "markdown",
   "metadata": {},
   "source": [
    "## Clases y Programación Orientada a Objetos"
   ]
  },
  {
   "attachments": {},
   "cell_type": "markdown",
   "metadata": {},
   "source": [
    "1) Crear la clase vehículo que contenga los atributos:<br>\n",
    "Color<br>\n",
    "Si es moto, auto, camioneta ó camión<br>\n",
    "Cilindrada del motor"
   ]
  },
  {
   "cell_type": "code",
   "execution_count": 2,
   "metadata": {},
   "outputs": [],
   "source": [
    "class Vehiculo:\n",
    "    \n",
    "    def __init__(self, color, tipo, cilindraje ):\n",
    "        self.color = color  \n",
    "        self.tipo = tipo\n",
    "        self.cilindraje = cilindraje"
   ]
  },
  {
   "attachments": {},
   "cell_type": "markdown",
   "metadata": {},
   "source": [
    "2) A la clase Vehiculo creada en el punto 1, agregar los siguientes métodos:<br>\n",
    "Acelerar<br>\n",
    "Frenar<br>\n",
    "Doblar<br>"
   ]
  },
  {
   "cell_type": "code",
   "execution_count": 4,
   "metadata": {},
   "outputs": [],
   "source": [
    "class Vehiculo:\n",
    "\n",
    "    def __init__(self, color, tipo, cilindraje ):\n",
    "        self.color = color  \n",
    "        self.tipo = tipo\n",
    "        self.cilindraje = cilindraje\n",
    "        self.velocidad = 0\n",
    "        self.direccion = 0\n",
    "\n",
    "    def Acelerar(self, vel):\n",
    "        self.velocidad =+ vel\n",
    "\n",
    "    def Frenar(self, vel):\n",
    "        self.velocidad =- vel\n",
    "\n",
    "    def Doblar(self, grados):\n",
    "        self.direccion =+ grados"
   ]
  },
  {
   "attachments": {},
   "cell_type": "markdown",
   "metadata": {},
   "source": [
    "3) Instanciar 3 objetos de la clase vehículo y ejecutar sus métodos, probar luego el resultado"
   ]
  },
  {
   "cell_type": "code",
   "execution_count": 5,
   "metadata": {},
   "outputs": [],
   "source": [
    "v1 = Vehiculo('Azul', 'Moto', 100)\n",
    "v2 = Vehiculo('Negro', 'Carro', 1200)\n",
    "v3 = Vehiculo('Blanco', 'Moto', 600)"
   ]
  },
  {
   "cell_type": "code",
   "execution_count": 6,
   "metadata": {},
   "outputs": [],
   "source": [
    "v1.Acelerar(20)\n",
    "v2.Frenar(10)\n",
    "v3.Doblar(-20)"
   ]
  },
  {
   "attachments": {},
   "cell_type": "markdown",
   "metadata": {},
   "source": [
    "4) Agregar a la clase Vehiculo, un método que muestre su estado, es decir, a que velocidad se encuentra y su dirección. Y otro método que muestre color, tipo y cilindrada"
   ]
  },
  {
   "cell_type": "code",
   "execution_count": 8,
   "metadata": {},
   "outputs": [],
   "source": [
    "class Vehiculo:\n",
    "\n",
    "    def __init__(self, color, tipo, cilindraje ):\n",
    "        self.color = color  \n",
    "        self.tipo = tipo\n",
    "        self.cilindraje = cilindraje\n",
    "        self.velocidad = 0\n",
    "        self.direccion = 0\n",
    "\n",
    "    def Acelerar(self, vel):\n",
    "        self.velocidad =+ vel\n",
    "\n",
    "    def Frenar(self, vel):\n",
    "        self.velocidad =- vel\n",
    "\n",
    "    def Doblar(self, grados):\n",
    "        self.direccion =+ grados\n",
    "    \n",
    "    def Estado(self):\n",
    "        print('Velocidad:', self.velocidad)\n",
    "        print('Direccion:', self.direccion)\n",
    "        \n",
    "    def Caracteristica(self):\n",
    "        print('Color:', self.color)\n",
    "        print('Tipo:', self.tipo)\n",
    "        print('Cilindraje:', self.cilindraje)"
   ]
  },
  {
   "cell_type": "code",
   "execution_count": 10,
   "metadata": {},
   "outputs": [
    {
     "name": "stdout",
     "output_type": "stream",
     "text": [
      "Color: rojo\n",
      "Tipo: auto\n",
      "Cilindraje: 2\n"
     ]
    }
   ],
   "source": [
    "a1 = Vehiculo('rojo', 'auto', 2)\n",
    "a1.Caracteristica()"
   ]
  },
  {
   "attachments": {},
   "cell_type": "markdown",
   "metadata": {},
   "source": [
    "5) Crear una clase que permita utilizar las funciones creadas en la práctica del módulo 7<br>\n",
    "Verificar Primo<br>\n",
    "Valor modal<br>\n",
    "Conversión grados<br>\n",
    "Factorial<br>"
   ]
  },
  {
   "cell_type": "code",
   "execution_count": 32,
   "metadata": {},
   "outputs": [],
   "source": [
    "class Funciones:\n",
    "\n",
    "    def __init__(self) -> None:\n",
    "        pass\n",
    "\n",
    "    def primo(self, n): \n",
    "        r = True\n",
    "        for i in range(2,n):\n",
    "    \n",
    "            if n%i !=0:\n",
    "                continue\n",
    "            else:\n",
    "                r = False\n",
    "                break\n",
    "        return r  \n",
    "\n",
    "    def repetidosorden(self, lista, menor=True):\n",
    "        if len(lista) == 0:  # Verificación si la lista está vacía\n",
    "            return None  # Si la lista está vacía, se devuelve None\n",
    "        if menor:  # Verificación del parámetro menor\n",
    "            lista.sort(reverse=True)  # Ordena la lista de forma ascendente si menor es verdadero\n",
    "        else:\n",
    "            lista.sort()  # Ordena la lista de forma descendente si menor es falso\n",
    "        c = 1\n",
    "        a=lista[0]\n",
    "        for i in lista:\n",
    "            if lista.count(i)>=c:\n",
    "                c = lista.count(i)\n",
    "                a = i\n",
    "        return a, c\n",
    "\n",
    "    def grados(self, valor, origen, destino):\n",
    "        if origen == destino: \n",
    "            return valor, destino\n",
    "        else: \n",
    "            if origen == 'C':\n",
    "                if destino == 'F':\n",
    "                    valor = (valor*9/5)+32\n",
    "                elif destino == 'K':\n",
    "                    valor = valor+273.15\n",
    "            elif origen == 'F':\n",
    "                if destino == 'C':\n",
    "                    valor = (valor-32)*5/9\n",
    "                elif destino == 'K':\n",
    "                    valor = (valor-32)*5/9+273.15\n",
    "            elif origen == 'K':\n",
    "                if destino == 'C':\n",
    "                    valor = valor-273.15\n",
    "                elif destino == 'F':\n",
    "                    valor = (valor-273.15)*9/5+32\n",
    "            return valor, destino    \n",
    "    \n",
    "    def factorial(self, x): \n",
    "        if type(x) != int:\n",
    "            return \"El número debe ser entero\"\n",
    "        elif x<0:\n",
    "            return \"El número debe ser positivo\"\n",
    "        else: \n",
    "            if x == 1:\n",
    "                return x \n",
    "            elif x==0:\n",
    "                return 1\n",
    "            \n",
    "            x = x*Funciones().factorial(x-1)\n",
    "\n",
    "            return x\n",
    "\n",
    "    "
   ]
  },
  {
   "attachments": {},
   "cell_type": "markdown",
   "metadata": {},
   "source": [
    "6) Probar las funciones incorporadas en la clase del punto 5"
   ]
  },
  {
   "cell_type": "code",
   "execution_count": 34,
   "metadata": {},
   "outputs": [],
   "source": [
    "f = Funciones()"
   ]
  },
  {
   "cell_type": "code",
   "execution_count": 26,
   "metadata": {},
   "outputs": [
    {
     "data": {
      "text/plain": [
       "False"
      ]
     },
     "execution_count": 26,
     "metadata": {},
     "output_type": "execute_result"
    }
   ],
   "source": [
    "f.primo(800)"
   ]
  },
  {
   "cell_type": "code",
   "execution_count": 27,
   "metadata": {},
   "outputs": [
    {
     "name": "stdout",
     "output_type": "stream",
     "text": [
      "El valor modal es 8 y se reptie 2 veces\n"
     ]
    }
   ],
   "source": [
    "listado = [1,8,2,5,4,8,10,7]\n",
    "moda, repe = f.repetidosorden(listado, True)\n",
    "print('El valor modal es', moda, 'y se repite', repe, 'veces')"
   ]
  },
  {
   "cell_type": "code",
   "execution_count": 28,
   "metadata": {},
   "outputs": [
    {
     "data": {
      "text/plain": [
       "(283.15, 'K')"
      ]
     },
     "execution_count": 28,
     "metadata": {},
     "output_type": "execute_result"
    }
   ],
   "source": [
    "f.grados(10, 'C', 'K')"
   ]
  },
  {
   "cell_type": "code",
   "execution_count": 35,
   "metadata": {},
   "outputs": [
    {
     "data": {
      "text/plain": [
       "720"
      ]
     },
     "execution_count": 35,
     "metadata": {},
     "output_type": "execute_result"
    }
   ],
   "source": [
    "f.factorial(6)"
   ]
  },
  {
   "attachments": {},
   "cell_type": "markdown",
   "metadata": {},
   "source": [
    "7) Es necesario que la clase creada en el punto 5 contenga una lista, sobre la cual se apliquen las funciones incorporadas"
   ]
  },
  {
   "cell_type": "code",
   "execution_count": 54,
   "metadata": {},
   "outputs": [],
   "source": [
    "class Funciones:\n",
    "\n",
    "    def __init__(self, lista):\n",
    "        self.lista = lista\n",
    "\n",
    "    def primo(self):\n",
    "        for i in self.lista:\n",
    "            if (self.__primo(i)):\n",
    "                print('El elemento', i, 'SI es un numero primo')\n",
    "            else:\n",
    "                print('El elemento', i, 'NO es un numero primo')\n",
    "\n",
    "    def grados(self, origen, destino):\n",
    "        for i in self.lista:\n",
    "            print(i, 'grados', origen, 'son', self.__grados(i, origen, destino),'grados',destino)\n",
    "        \n",
    "    def factorial(self):\n",
    "        for i in self.lista:\n",
    "            print('El factorial de ', i, 'es', self.__factorial(i))\n",
    "\n",
    "    def __primo(self, n): \n",
    "        r = True\n",
    "        for i in range(2,n):\n",
    "    \n",
    "            if n%i !=0:\n",
    "                continue\n",
    "            else:\n",
    "                r = False\n",
    "                break\n",
    "        return r  \n",
    "\n",
    "    def repetidosorden(self, menor=True):\n",
    "        if len(self.lista) == 0:  # Verificación si la lista está vacía\n",
    "            return None  # Si la lista está vacía, se devuelve None\n",
    "        if menor:  # Verificación del parámetro menor\n",
    "            self.lista.sort(reverse=True)  # Ordena la lista de forma ascendente si menor es verdadero\n",
    "        else:\n",
    "            self.lista.sort()  # Ordena la lista de forma descendente si menor es falso\n",
    "        c = 1\n",
    "        a=self.lista[0]\n",
    "        for i in self.lista:\n",
    "            if self.lista.count(i)>=c:\n",
    "                c = self.lista.count(i)\n",
    "                a = i\n",
    "        return a, c\n",
    "\n",
    "    def __grados(self, valor, origen, destino):\n",
    "        if origen == destino: \n",
    "            return valor, destino\n",
    "        else: \n",
    "            if origen == 'C':\n",
    "                if destino == 'F':\n",
    "                    valor = (valor*9/5)+32\n",
    "                elif destino == 'K':\n",
    "                    valor = valor+273.15\n",
    "            elif origen == 'F':\n",
    "                if destino == 'C':\n",
    "                    valor = (valor-32)*5/9\n",
    "                elif destino == 'K':\n",
    "                    valor = (valor-32)*5/9+273.15\n",
    "            elif origen == 'K':\n",
    "                if destino == 'C':\n",
    "                    valor = valor-273.15\n",
    "                elif destino == 'F':\n",
    "                    valor = (valor-273.15)*9/5+32\n",
    "            return valor, destino    \n",
    "    \n",
    "    def __factorial(self, x): \n",
    "        if type(x) != int:\n",
    "            return \"El número debe ser entero\"\n",
    "        elif x<0:\n",
    "            return \"El número debe ser positivo\"\n",
    "        else: \n",
    "            if x == 1:\n",
    "                return x \n",
    "            elif x==0:\n",
    "                return 1\n",
    "            \n",
    "            x = x*Funciones().__factorial(x-1)\n",
    "\n",
    "            return x\n"
   ]
  },
  {
   "cell_type": "code",
   "execution_count": 55,
   "metadata": {},
   "outputs": [],
   "source": [
    "f = Funciones([1,1,2,5,8,8,9,11,15,16,16,16,18,20])"
   ]
  },
  {
   "cell_type": "code",
   "execution_count": 39,
   "metadata": {},
   "outputs": [
    {
     "name": "stdout",
     "output_type": "stream",
     "text": [
      "1 grados C son (33.8, 'F') grados F\n",
      "1 grados C son (33.8, 'F') grados F\n",
      "2 grados C son (35.6, 'F') grados F\n",
      "5 grados C son (41.0, 'F') grados F\n",
      "8 grados C son (46.4, 'F') grados F\n",
      "8 grados C son (46.4, 'F') grados F\n",
      "9 grados C son (48.2, 'F') grados F\n",
      "11 grados C son (51.8, 'F') grados F\n",
      "15 grados C son (59.0, 'F') grados F\n",
      "16 grados C son (60.8, 'F') grados F\n",
      "16 grados C son (60.8, 'F') grados F\n",
      "16 grados C son (60.8, 'F') grados F\n",
      "18 grados C son (64.4, 'F') grados F\n",
      "20 grados C son (68.0, 'F') grados F\n"
     ]
    }
   ],
   "source": [
    "f.grados('C','F')"
   ]
  },
  {
   "cell_type": "code",
   "execution_count": 40,
   "metadata": {},
   "outputs": [
    {
     "name": "stdout",
     "output_type": "stream",
     "text": [
      "El elemento 1 SI es un numero primo\n",
      "El elemento 1 SI es un numero primo\n",
      "El elemento 2 SI es un numero primo\n",
      "El elemento 5 SI es un numero primo\n",
      "El elemento 8 NO es un numero primo\n",
      "El elemento 8 NO es un numero primo\n",
      "El elemento 9 NO es un numero primo\n",
      "El elemento 11 SI es un numero primo\n",
      "El elemento 15 NO es un numero primo\n",
      "El elemento 16 NO es un numero primo\n",
      "El elemento 16 NO es un numero primo\n",
      "El elemento 16 NO es un numero primo\n",
      "El elemento 18 NO es un numero primo\n",
      "El elemento 20 NO es un numero primo\n"
     ]
    }
   ],
   "source": [
    "f.primo()"
   ]
  },
  {
   "cell_type": "code",
   "execution_count": 56,
   "metadata": {},
   "outputs": [
    {
     "name": "stdout",
     "output_type": "stream",
     "text": [
      "El valor modal es 16 y se reptie 3 veces\n"
     ]
    }
   ],
   "source": [
    "moda, repe = f.repetidosorden(False)\n",
    "print('El valor modal es', moda, 'y se reptie', repe, 'veces')"
   ]
  },
  {
   "cell_type": "code",
   "execution_count": 57,
   "metadata": {},
   "outputs": [
    {
     "name": "stdout",
     "output_type": "stream",
     "text": [
      "El factorial de  1 es 1\n",
      "El factorial de  1 es 1\n"
     ]
    },
    {
     "ename": "TypeError",
     "evalue": "__init__() missing 1 required positional argument: 'lista'",
     "output_type": "error",
     "traceback": [
      "\u001b[1;31m---------------------------------------------------------------------------\u001b[0m",
      "\u001b[1;31mTypeError\u001b[0m                                 Traceback (most recent call last)",
      "Cell \u001b[1;32mIn[57], line 1\u001b[0m\n\u001b[1;32m----> 1\u001b[0m f\u001b[39m.\u001b[39;49mfactorial()\n",
      "Cell \u001b[1;32mIn[54], line 19\u001b[0m, in \u001b[0;36mFunciones.factorial\u001b[1;34m(self)\u001b[0m\n\u001b[0;32m     17\u001b[0m \u001b[39mdef\u001b[39;00m \u001b[39mfactorial\u001b[39m(\u001b[39mself\u001b[39m):\n\u001b[0;32m     18\u001b[0m     \u001b[39mfor\u001b[39;00m i \u001b[39min\u001b[39;00m \u001b[39mself\u001b[39m\u001b[39m.\u001b[39mlista:\n\u001b[1;32m---> 19\u001b[0m         \u001b[39mprint\u001b[39m(\u001b[39m'\u001b[39m\u001b[39mEl factorial de \u001b[39m\u001b[39m'\u001b[39m, i, \u001b[39m'\u001b[39m\u001b[39mes\u001b[39m\u001b[39m'\u001b[39m, \u001b[39mself\u001b[39;49m\u001b[39m.\u001b[39;49m__factorial(i))\n",
      "Cell \u001b[1;32mIn[54], line 79\u001b[0m, in \u001b[0;36mFunciones.__factorial\u001b[1;34m(self, x)\u001b[0m\n\u001b[0;32m     76\u001b[0m \u001b[39melif\u001b[39;00m x\u001b[39m==\u001b[39m\u001b[39m0\u001b[39m:\n\u001b[0;32m     77\u001b[0m     \u001b[39mreturn\u001b[39;00m \u001b[39m1\u001b[39m\n\u001b[1;32m---> 79\u001b[0m x \u001b[39m=\u001b[39m x\u001b[39m*\u001b[39mFunciones()\u001b[39m.\u001b[39mfactorial(x\u001b[39m-\u001b[39m\u001b[39m1\u001b[39m)\n\u001b[0;32m     81\u001b[0m \u001b[39mreturn\u001b[39;00m x\n",
      "\u001b[1;31mTypeError\u001b[0m: __init__() missing 1 required positional argument: 'lista'"
     ]
    }
   ],
   "source": [
    "f.factorial()"
   ]
  },
  {
   "attachments": {},
   "cell_type": "markdown",
   "metadata": {},
   "source": [
    "8) Crear un archivo .py aparte y ubicar allí la clase generada en el punto anterior. Luego realizar la importación del módulo y probar alguna de sus funciones"
   ]
  },
  {
   "cell_type": "code",
   "execution_count": null,
   "metadata": {},
   "outputs": [],
   "source": []
  }
 ],
 "metadata": {
  "interpreter": {
   "hash": "c85384e4cb51c8b72350f3a8712cc8351fdc3955e32a27f9b60c6242ab125f01"
  },
  "kernelspec": {
   "display_name": "Python 3 (ipykernel)",
   "language": "python",
   "name": "python3"
  },
  "language_info": {
   "codemirror_mode": {
    "name": "ipython",
    "version": 3
   },
   "file_extension": ".py",
   "mimetype": "text/x-python",
   "name": "python",
   "nbconvert_exporter": "python",
   "pygments_lexer": "ipython3",
   "version": "3.9.13"
  }
 },
 "nbformat": 4,
 "nbformat_minor": 4
}
