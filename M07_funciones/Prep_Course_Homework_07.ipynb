{
 "cells": [
  {
   "attachments": {},
   "cell_type": "markdown",
   "metadata": {},
   "source": [
    "## Funciones"
   ]
  },
  {
   "attachments": {},
   "cell_type": "markdown",
   "metadata": {},
   "source": [
    "1) Crear una función que reciba un número como parámetro y devuelva True si es primo y False si no lo es"
   ]
  },
  {
   "cell_type": "code",
   "execution_count": 32,
   "metadata": {},
   "outputs": [],
   "source": [
    "def primo(n): \n",
    "    r = True\n",
    "    for i in range(2,n):\n",
    "   \n",
    "        if n%i !=0:\n",
    "            continue\n",
    "        else:\n",
    "            r = False\n",
    "            break\n",
    "    return r     "
   ]
  },
  {
   "attachments": {},
   "cell_type": "markdown",
   "metadata": {},
   "source": [
    "2) Utilizando la función del punto 1, realizar otra función que reciba de parámetro una lista de números y devuelva sólo aquellos que son primos en otra lista"
   ]
  },
  {
   "cell_type": "code",
   "execution_count": 37,
   "metadata": {},
   "outputs": [],
   "source": [
    "def Primos(lista):\n",
    "    list_p = []\n",
    "    for i in lista:\n",
    "        if primo(i):\n",
    "            list_p.append(i)\n",
    "    return list_p"
   ]
  },
  {
   "cell_type": "code",
   "execution_count": 38,
   "metadata": {},
   "outputs": [
    {
     "data": {
      "text/plain": [
       "[1, 2, 3, 5, 7]"
      ]
     },
     "execution_count": 38,
     "metadata": {},
     "output_type": "execute_result"
    }
   ],
   "source": [
    "Primos([1,2,3,4,5,6,7,8,9])"
   ]
  },
  {
   "attachments": {},
   "cell_type": "markdown",
   "metadata": {},
   "source": [
    "3) Crear una función que al recibir una lista de números, devuelva el que más se repite y cuántas veces lo hace. Si hay más de un \"más repetido\", que devuelva cualquiera"
   ]
  },
  {
   "cell_type": "code",
   "execution_count": 65,
   "metadata": {},
   "outputs": [],
   "source": [
    "def repetidos(lista):\n",
    "    if len(lista) == 0:  # Verificación si la lista está vacía\n",
    "        return None  # Si la lista está vacía, se devuelve None\n",
    "    c = 1\n",
    "    a=lista[0]\n",
    "    for i in lista:\n",
    "        if lista.count(i)>=c:\n",
    "            c = lista.count(i)\n",
    "            a = i\n",
    "    return a, c\n"
   ]
  },
  {
   "cell_type": "code",
   "execution_count": 67,
   "metadata": {},
   "outputs": [],
   "source": [
    "repetidos([1,2,2,2,3,5,5,5])"
   ]
  },
  {
   "attachments": {},
   "cell_type": "markdown",
   "metadata": {},
   "source": [
    "4) A la función del punto 3, agregar un parámetro más, que permita elegir si se requiere el menor o el mayor de los mas repetidos."
   ]
  },
  {
   "cell_type": "code",
   "execution_count": 73,
   "metadata": {},
   "outputs": [],
   "source": [
    "def repetidosorden(lista, menor=True):\n",
    "    if len(lista) == 0:  # Verificación si la lista está vacía\n",
    "        return None  # Si la lista está vacía, se devuelve None\n",
    "    if menor:  # Verificación del parámetro menor\n",
    "        lista.sort(reverse=True)  # Ordena la lista de forma ascendente si menor es verdadero\n",
    "    else:\n",
    "        lista.sort()  # Ordena la lista de forma descendente si menor es falso\n",
    "    c = 1\n",
    "    a=lista[0]\n",
    "    for i in lista:\n",
    "        if lista.count(i)>=c:\n",
    "            c = lista.count(i)\n",
    "            a = i\n",
    "    return a, c"
   ]
  },
  {
   "cell_type": "code",
   "execution_count": 103,
   "metadata": {},
   "outputs": [
    {
     "name": "stdout",
     "output_type": "stream",
     "text": [
      "El valor modal es 5 y se repite 3 veces.\n"
     ]
    }
   ],
   "source": [
    "lis = [10,1,5,6,8,10,22,5,6,4,11,10,9,5]\n",
    "moda, repite = repetidosorden(lis, True)\n",
    "print('El valor modal es', moda, 'y se repite', repite, 'veces.')"
   ]
  },
  {
   "cell_type": "code",
   "execution_count": 78,
   "metadata": {},
   "outputs": [
    {
     "data": {
      "text/plain": [
       "(2, 3)"
      ]
     },
     "execution_count": 78,
     "metadata": {},
     "output_type": "execute_result"
    }
   ],
   "source": [
    "repetidosorden([1,2,2,2,3,5,5,5], menor=True)"
   ]
  },
  {
   "attachments": {},
   "cell_type": "markdown",
   "metadata": {},
   "source": [
    "5) Crear una función que convierta entre grados Celsius, Farenheit y Kelvin<br>\n",
    "Fórmula 1\t: (°C × 9/5) + 32 = °F<br>\n",
    "Fórmula 2\t: °C + 273.15 = °K<br>\n",
    "Debe recibir 3 parámetros: el valor, la medida de orígen y la medida de destino\n"
   ]
  },
  {
   "cell_type": "code",
   "execution_count": 110,
   "metadata": {},
   "outputs": [],
   "source": [
    "def grados(valor, origen, destino):\n",
    "\n",
    "    if origen == destino: \n",
    "        return valor, destino\n",
    "    else: \n",
    "        if origen == 'C':\n",
    "            if destino == 'F':\n",
    "                valor = (valor*9/5)+32\n",
    "            elif destino == 'K':\n",
    "                valor = valor+273.15\n",
    "        elif origen == 'F':\n",
    "            if destino == 'C':\n",
    "                valor = (valor-32)*5/9\n",
    "            elif destino == 'K':\n",
    "                valor = (valor-32)*5/9+273.15\n",
    "        elif origen == 'K':\n",
    "            if destino == 'C':\n",
    "                valor = valor-273.15\n",
    "            elif destino == 'F':\n",
    "                valor = (valor-273.15)*9/5+32\n",
    "        return valor, destino    \n",
    "        "
   ]
  },
  {
   "cell_type": "code",
   "execution_count": 89,
   "metadata": {},
   "outputs": [
    {
     "data": {
      "text/plain": [
       "(-1.6666666666666667, 'C')"
      ]
     },
     "execution_count": 89,
     "metadata": {},
     "output_type": "execute_result"
    }
   ],
   "source": [
    "grados(29,'F', 'C')"
   ]
  },
  {
   "attachments": {},
   "cell_type": "markdown",
   "metadata": {},
   "source": [
    "6) Iterando una lista con los tres valores posibles de temperatura que recibe la función del punto 5, hacer un print para cada combinación de los mismos:"
   ]
  },
  {
   "cell_type": "code",
   "execution_count": 111,
   "metadata": {},
   "outputs": [
    {
     "name": "stdout",
     "output_type": "stream",
     "text": [
      "(1, 'F')\n",
      "(-17.22222222222222, 'C')\n",
      "(255.92777777777775, 'K')\n",
      "(33.8, 'F')\n",
      "(1, 'C')\n",
      "(274.15, 'K')\n",
      "(-457.87, 'F')\n",
      "(-272.15, 'C')\n",
      "(1, 'K')\n"
     ]
    }
   ],
   "source": [
    "metrica = ['F','C', 'K']\n",
    "\n",
    "for x in metrica:\n",
    "    for y in metrica:\n",
    "        print(grados(1,x,y))"
   ]
  },
  {
   "attachments": {},
   "cell_type": "markdown",
   "metadata": {},
   "source": [
    "7) Armar una función que devuelva el factorial de un número. Tener en cuenta que el usuario puede equivocarse y enviar de parámetro un número no entero o negativo"
   ]
  },
  {
   "cell_type": "code",
   "execution_count": 1,
   "metadata": {},
   "outputs": [],
   "source": [
    "def factorial(x): \n",
    "    if type(x) != int:\n",
    "        return \"El número debe ser entero\"\n",
    "    elif x<0:\n",
    "        return \"El número debe ser positivo\"\n",
    "    else: \n",
    "        if x == 1:\n",
    "            return x \n",
    "        elif x==0:\n",
    "            return 1\n",
    "        \n",
    "        x = x * factorial(x-1)\n",
    "\n",
    "        return x"
   ]
  },
  {
   "cell_type": "code",
   "execution_count": 4,
   "metadata": {},
   "outputs": [
    {
     "name": "stdout",
     "output_type": "stream",
     "text": [
      "120\n",
      "El número debe ser positivo\n",
      "El número debe ser entero\n",
      "El número debe ser entero\n"
     ]
    }
   ],
   "source": [
    "print(factorial(5))\n",
    "print(factorial(-2))\n",
    "print(factorial(1.23))\n",
    "print(factorial('6'))"
   ]
  }
 ],
 "metadata": {
  "interpreter": {
   "hash": "c85384e4cb51c8b72350f3a8712cc8351fdc3955e32a27f9b60c6242ab125f01"
  },
  "kernelspec": {
   "display_name": "Python 3 (ipykernel)",
   "language": "python",
   "name": "python3"
  },
  "language_info": {
   "codemirror_mode": {
    "name": "ipython",
    "version": 3
   },
   "file_extension": ".py",
   "mimetype": "text/x-python",
   "name": "python",
   "nbconvert_exporter": "python",
   "pygments_lexer": "ipython3",
   "version": "3.9.13"
  }
 },
 "nbformat": 4,
 "nbformat_minor": 4
}
